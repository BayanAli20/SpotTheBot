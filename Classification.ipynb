{
 "cells": [
  {
   "cell_type": "code",
   "execution_count": 15,
   "metadata": {},
   "outputs": [],
   "source": [
    "import tensorflow as tf"
   ]
  },
  {
   "cell_type": "code",
   "execution_count": 3,
   "metadata": {},
   "outputs": [
    {
     "name": "stdout",
     "output_type": "stream",
     "text": [
      "Requirement already satisfied: graphviz in c:\\users\\bayan ali\\anaconda3\\envs\\new_env\\lib\\site-packages (0.20.1)\n",
      "Note: you may need to restart the kernel to use updated packages.\n"
     ]
    },
    {
     "name": "stderr",
     "output_type": "stream",
     "text": [
      "WARNING: Ignoring invalid distribution -rotobuf (c:\\users\\bayan ali\\anaconda3\\envs\\new_env\\lib\\site-packages)\n",
      "WARNING: Ignoring invalid distribution -rotobuf (c:\\users\\bayan ali\\anaconda3\\envs\\new_env\\lib\\site-packages)\n",
      "WARNING: Ignoring invalid distribution -rotobuf (c:\\users\\bayan ali\\anaconda3\\envs\\new_env\\lib\\site-packages)\n",
      "WARNING: Ignoring invalid distribution -rotobuf (c:\\users\\bayan ali\\anaconda3\\envs\\new_env\\lib\\site-packages)\n",
      "WARNING: Ignoring invalid distribution -rotobuf (c:\\users\\bayan ali\\anaconda3\\envs\\new_env\\lib\\site-packages)\n",
      "WARNING: Ignoring invalid distribution -rotobuf (c:\\users\\bayan ali\\anaconda3\\envs\\new_env\\lib\\site-packages)\n"
     ]
    }
   ],
   "source": [
    "pip install graphviz"
   ]
  },
  {
   "cell_type": "code",
   "execution_count": 2,
   "metadata": {},
   "outputs": [
    {
     "name": "stderr",
     "output_type": "stream",
     "text": [
      "c:\\Users\\Bayan Ali\\anaconda3\\envs\\new_env\\lib\\site-packages\\numpy\\_distributor_init.py:30: UserWarning: loaded more than 1 DLL from .libs:\n",
      "c:\\Users\\Bayan Ali\\anaconda3\\envs\\new_env\\lib\\site-packages\\numpy\\.libs\\libopenblas.FB5AE2TYXYH2IJRDKGDGQ3XBKLKTF43H.gfortran-win_amd64.dll\n",
      "c:\\Users\\Bayan Ali\\anaconda3\\envs\\new_env\\lib\\site-packages\\numpy\\.libs\\libopenblas.XWYDX2IKJW2NMTWSFYNGFUWKQU3LYTCZ.gfortran-win_amd64.dll\n",
      "  warnings.warn(\"loaded more than 1 DLL from .libs:\"\n"
     ]
    }
   ],
   "source": [
    "import graphviz\n",
    "import numpy as np\n",
    "import pandas as pd\n",
    "import matplotlib.pyplot as plt\n",
    "from sklearn.preprocessing import OrdinalEncoder\n",
    "from sklearn.tree import DecisionTreeClassifier\n",
    "from sklearn import tree\n",
    "from sklearn import preprocessing\n"
   ]
  },
  {
   "cell_type": "code",
   "execution_count": 48,
   "metadata": {},
   "outputs": [],
   "source": [
    "\n",
    "\n",
    "class Classification():\n",
    "\n",
    "    def __init__(self, data):\n",
    "        self.data = data\n",
    "\n",
    "    def prepare_classification(self, target, list_fit):\n",
    "        self.y = self.data[target]\n",
    "        \n",
    "        self.x= self.data.drop(list_fit, axis = 1)\n",
    "        print(type(self.x))\n",
    "\n",
    "\n",
    "    def model_classification(self, max_depth):\n",
    "        self.X_train = self.x\n",
    "        self.Y_train  = self.y\n",
    "        #print(self.X_train.shape,  self.Y_train.shape)\n",
    "        self.clf = DecisionTreeClassifier(criterion = 'gini', max_depth= max_depth)\n",
    "        self.clf = self.clf.fit(self.X_train, self.Y_train)\n",
    "    \n",
    "    def vizualize_tree(self, feature_name):\n",
    "        dot_data = tree.export_graphviz(self.clf,\n",
    "                                            out_file=None,\n",
    "                                            feature_names=self.X_train.columns.values,\n",
    "                                            class_names = self.clf.classes_,\n",
    "                                            filled=True)\n",
    "        graph = graphviz.Source(dot_data, format = \"svg\")\n",
    "        graph.render(\"C:/Users/Bayan Ali/Desktop/SpotTheBot/Classificaion results/\"+feature_name+\"final_decision_tree_entropy_graphivz\")\n",
    "        graph = graphviz.Source(dot_data, format = \"png\")\n",
    "        graph.render(\"C:/Users/Bayan Ali/Desktop/SpotTheBot/Classificaion results/\"+feature_name+\"final_decision_tree_entropy_graphivz\")\n",
    "        graph = graphviz.Source(dot_data, format = \"eps\")\n",
    "        graph.render(\"C:/Users/Bayan Ali/Desktop/SpotTheBot/Classificaion results/\"+feature_name+\"final_decision_tree_entropy_graphivz\")\n",
    "\n",
    "    def visualize_importance(self,color, feature_name):\n",
    "        plt.figure(figsize=(5,3))\n",
    "        plt.title(\"Feature importance - \"+feature_name, fontsize=13, fontweight='bold', fontname='Times New Roman')\n",
    "        plt.barh( [\"xmin DC\", \"τ DC\", \"xmin KS\", \"τ KS\"] , self.clf.feature_importances_, color = color, height = 0.3)\n",
    "        plt.yticks(fontsize=9, fontweight='bold', fontname='Times New Roman')\n",
    "        plt.savefig(\"C:/Users/Bayan Ali/Desktop/SpotTheBot/Classificaion results/\"+feature_name+\"feature_importances.svg\")\n",
    "        plt.savefig(\"C:/Users/Bayan Ali/Desktop/SpotTheBot/Classificaion results/\"+feature_name+\"feature_importances.png\")\n",
    "        plt.savefig(\"C:/Users/Bayan Ali/Desktop/SpotTheBot/Classificaion results/\"+feature_name+\"feature_importances.eps\")\n",
    "        plt.show()\n",
    "        plt.close()\n",
    "\n",
    "\n",
    "\n",
    "\n"
   ]
  },
  {
   "cell_type": "code",
   "execution_count": 44,
   "metadata": {},
   "outputs": [],
   "source": [
    "#parameters \n",
    "list_fit = [ \"Word order\",\"Locus of marking\",\"Alignment\",\"Complexity\",\t\"Head directionality\"]\n",
    "list_depth = [3, 3, 3, 3, 3]"
   ]
  },
  {
   "cell_type": "code",
   "execution_count": 45,
   "metadata": {},
   "outputs": [],
   "source": [
    "def read_data():\n",
    "    data = pd.read_csv(\"C:/Users/Bayan Ali/Desktop/SpotTheBot/Clustering.csv\")\n",
    "    df_data =  pd.DataFrame(data)\n",
    "    df_data = df_data.drop([\"N\",\"Languages\",\"Estimated Alpha (Hill)\",\"(Prussner - KS)/Prussner\",\"Abs\",\"<=0.1\"], axis = 1) #\"xmin based on data collapse\",\"xmin based on KS\"\n",
    "    #df_data = df_data.drop(list_fit, axis = 1)\n",
    "    return df_data"
   ]
  },
  {
   "cell_type": "code",
   "execution_count": 46,
   "metadata": {},
   "outputs": [
    {
     "data": {
      "text/html": [
       "<div>\n",
       "<style scoped>\n",
       "    .dataframe tbody tr th:only-of-type {\n",
       "        vertical-align: middle;\n",
       "    }\n",
       "\n",
       "    .dataframe tbody tr th {\n",
       "        vertical-align: top;\n",
       "    }\n",
       "\n",
       "    .dataframe thead th {\n",
       "        text-align: right;\n",
       "    }\n",
       "</style>\n",
       "<table border=\"1\" class=\"dataframe\">\n",
       "  <thead>\n",
       "    <tr style=\"text-align: right;\">\n",
       "      <th></th>\n",
       "      <th>xmin based on data collapse</th>\n",
       "      <th>alpha based on data collapse</th>\n",
       "      <th>xmin based on KS</th>\n",
       "      <th>alpha based on KS</th>\n",
       "      <th>Word order</th>\n",
       "      <th>Locus of marking</th>\n",
       "      <th>Alignment</th>\n",
       "      <th>Complexity</th>\n",
       "      <th>Head directionality</th>\n",
       "    </tr>\n",
       "  </thead>\n",
       "  <tbody>\n",
       "    <tr>\n",
       "      <th>0</th>\n",
       "      <td>8020</td>\n",
       "      <td>3.3</td>\n",
       "      <td>8758</td>\n",
       "      <td>3.55</td>\n",
       "      <td>SOV</td>\n",
       "      <td>Inconsistent</td>\n",
       "      <td>Accusative</td>\n",
       "      <td>Synthetic</td>\n",
       "      <td>LL</td>\n",
       "    </tr>\n",
       "    <tr>\n",
       "      <th>1</th>\n",
       "      <td>201</td>\n",
       "      <td>3.2</td>\n",
       "      <td>200</td>\n",
       "      <td>3.45</td>\n",
       "      <td>SVO</td>\n",
       "      <td>Inconsistent</td>\n",
       "      <td>Accusative</td>\n",
       "      <td>Synthetic</td>\n",
       "      <td>R</td>\n",
       "    </tr>\n",
       "    <tr>\n",
       "      <th>2</th>\n",
       "      <td>51</td>\n",
       "      <td>3.0</td>\n",
       "      <td>50</td>\n",
       "      <td>3.10</td>\n",
       "      <td>SVO</td>\n",
       "      <td>Dependent</td>\n",
       "      <td>Accusative</td>\n",
       "      <td>Synthetic</td>\n",
       "      <td>R</td>\n",
       "    </tr>\n",
       "    <tr>\n",
       "      <th>3</th>\n",
       "      <td>1001</td>\n",
       "      <td>3.5</td>\n",
       "      <td>1014</td>\n",
       "      <td>3.30</td>\n",
       "      <td>SOV</td>\n",
       "      <td>Inconsistent</td>\n",
       "      <td>Ergative</td>\n",
       "      <td>Synthetic</td>\n",
       "      <td>LL</td>\n",
       "    </tr>\n",
       "    <tr>\n",
       "      <th>4</th>\n",
       "      <td>1001</td>\n",
       "      <td>2.0</td>\n",
       "      <td>1178</td>\n",
       "      <td>2.15</td>\n",
       "      <td>SVO</td>\n",
       "      <td>Dependent</td>\n",
       "      <td>Accusative</td>\n",
       "      <td>Synthetic</td>\n",
       "      <td>R</td>\n",
       "    </tr>\n",
       "  </tbody>\n",
       "</table>\n",
       "</div>"
      ],
      "text/plain": [
       "   xmin based on data collapse  alpha based on data collapse  \\\n",
       "0                         8020                           3.3   \n",
       "1                          201                           3.2   \n",
       "2                           51                           3.0   \n",
       "3                         1001                           3.5   \n",
       "4                         1001                           2.0   \n",
       "\n",
       "   xmin based on KS  alpha based on KS Word order Locus of marking  \\\n",
       "0              8758               3.55        SOV     Inconsistent   \n",
       "1               200               3.45        SVO     Inconsistent   \n",
       "2                50               3.10        SVO        Dependent   \n",
       "3              1014               3.30        SOV     Inconsistent   \n",
       "4              1178               2.15        SVO        Dependent   \n",
       "\n",
       "    Alignment Complexity Head directionality  \n",
       "0  Accusative  Synthetic                  LL  \n",
       "1  Accusative  Synthetic                   R  \n",
       "2  Accusative  Synthetic                   R  \n",
       "3    Ergative  Synthetic                  LL  \n",
       "4  Accusative  Synthetic                   R  "
      ]
     },
     "execution_count": 46,
     "metadata": {},
     "output_type": "execute_result"
    }
   ],
   "source": [
    "df_data = read_data()\n",
    "df_data.head()"
   ]
  },
  {
   "cell_type": "code",
   "execution_count": 49,
   "metadata": {},
   "outputs": [
    {
     "name": "stdout",
     "output_type": "stream",
     "text": [
      "<class 'pandas.core.frame.DataFrame'>\n"
     ]
    },
    {
     "data": {
      "image/png": "[encoded data removed]",
      "text/plain": [
       "<Figure size 360x216 with 1 Axes>"
      ]
     },
     "metadata": {
      "needs_background": "light"
     },
     "output_type": "display_data"
    },
    {
     "name": "stdout",
     "output_type": "stream",
     "text": [
      "<class 'pandas.core.frame.DataFrame'>\n"
     ]
    },
    {
     "data": {
      "image/png": "[encoded data removed]",
      "text/plain": [
       "<Figure size 360x216 with 1 Axes>"
      ]
     },
     "metadata": {
      "needs_background": "light"
     },
     "output_type": "display_data"
    },
    {
     "name": "stdout",
     "output_type": "stream",
     "text": [
      "<class 'pandas.core.frame.DataFrame'>\n"
     ]
    },
    {
     "data": {
      "image/png": "[encoded data removed]",
      "text/plain": [
       "<Figure size 360x216 with 1 Axes>"
      ]
     },
     "metadata": {
      "needs_background": "light"
     },
     "output_type": "display_data"
    },
    {
     "name": "stdout",
     "output_type": "stream",
     "text": [
      "<class 'pandas.core.frame.DataFrame'>\n"
     ]
    },
    {
     "data": {
      "image/png": "[encoded data removed]",
      "text/plain": [
       "<Figure size 360x216 with 1 Axes>"
      ]
     },
     "metadata": {
      "needs_background": "light"
     },
     "output_type": "display_data"
    },
    {
     "name": "stdout",
     "output_type": "stream",
     "text": [
      "<class 'pandas.core.frame.DataFrame'>\n"
     ]
    },
    {
     "data": {
      "image/png": "[encoded data removed]",
      "text/plain": [
       "<Figure size 360x216 with 1 Axes>"
      ]
     },
     "metadata": {
      "needs_background": "light"
     },
     "output_type": "display_data"
    }
   ],
   "source": [
    "df_data = read_data()\n",
    "df_data.head()\n",
    "for item, depth in zip(list_fit, list_depth):\n",
    "    \n",
    "    obj_classification = Classification(df_data)\n",
    "    obj_classification.prepare_classification(item, list_fit)\n",
    "    clf = obj_classification.model_classification(depth)\n",
    "    obj_classification.vizualize_tree(item)\n",
    "    obj_classification.visualize_importance(\"navy\", item)"
   ]
  },
  {
   "cell_type": "code",
   "execution_count": null,
   "metadata": {},
   "outputs": [],
   "source": []
  }
 ],
 "metadata": {
  "kernelspec": {
   "display_name": "new_env",
   "language": "python",
   "name": "python3"
  },
  "language_info": {
   "codemirror_mode": {
    "name": "ipython",
    "version": 3
   },
   "file_extension": ".py",
   "mimetype": "text/x-python",
   "name": "python",
   "nbconvert_exporter": "python",
   "pygments_lexer": "ipython3",
   "version": "3.9.7"
  }
 },
 "nbformat": 4,
 "nbformat_minor": 2
}
