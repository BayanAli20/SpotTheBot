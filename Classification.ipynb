{
 "cells": [
  {
   "cell_type": "code",
   "execution_count": 1,
   "metadata": {},
   "outputs": [
    {
     "name": "stderr",
     "output_type": "stream",
     "text": [
      "c:\\Users\\Bayan Ali\\anaconda3\\envs\\new_env\\lib\\site-packages\\numpy\\_distributor_init.py:30: UserWarning: loaded more than 1 DLL from .libs:\n",
      "c:\\Users\\Bayan Ali\\anaconda3\\envs\\new_env\\lib\\site-packages\\numpy\\.libs\\libopenblas.FB5AE2TYXYH2IJRDKGDGQ3XBKLKTF43H.gfortran-win_amd64.dll\n",
      "c:\\Users\\Bayan Ali\\anaconda3\\envs\\new_env\\lib\\site-packages\\numpy\\.libs\\libopenblas.XWYDX2IKJW2NMTWSFYNGFUWKQU3LYTCZ.gfortran-win_amd64.dll\n",
      "  warnings.warn(\"loaded more than 1 DLL from .libs:\"\n"
     ]
    }
   ],
   "source": [
    "import tensorflow as tf"
   ]
  },
  {
   "cell_type": "code",
   "execution_count": 2,
   "metadata": {},
   "outputs": [
    {
     "name": "stdout",
     "output_type": "stream",
     "text": [
      "Requirement already satisfied: graphviz in c:\\users\\bayan ali\\anaconda3\\envs\\new_env\\lib\\site-packages (0.20.1)\n",
      "Note: you may need to restart the kernel to use updated packages.\n"
     ]
    },
    {
     "name": "stderr",
     "output_type": "stream",
     "text": [
      "WARNING: Ignoring invalid distribution -rotobuf (c:\\users\\bayan ali\\anaconda3\\envs\\new_env\\lib\\site-packages)\n",
      "WARNING: Ignoring invalid distribution -rotobuf (c:\\users\\bayan ali\\anaconda3\\envs\\new_env\\lib\\site-packages)\n",
      "WARNING: Ignoring invalid distribution -rotobuf (c:\\users\\bayan ali\\anaconda3\\envs\\new_env\\lib\\site-packages)\n",
      "WARNING: Ignoring invalid distribution -rotobuf (c:\\users\\bayan ali\\anaconda3\\envs\\new_env\\lib\\site-packages)\n",
      "WARNING: Ignoring invalid distribution -rotobuf (c:\\users\\bayan ali\\anaconda3\\envs\\new_env\\lib\\site-packages)\n",
      "WARNING: Ignoring invalid distribution -rotobuf (c:\\users\\bayan ali\\anaconda3\\envs\\new_env\\lib\\site-packages)\n"
     ]
    }
   ],
   "source": [
    "pip install graphviz"
   ]
  },
  {
   "cell_type": "code",
   "execution_count": 3,
   "metadata": {},
   "outputs": [],
   "source": [
    "import graphviz\n",
    "import numpy as np\n",
    "import pandas as pd\n",
    "import matplotlib.pyplot as plt\n",
    "from sklearn.preprocessing import OrdinalEncoder\n",
    "from sklearn.tree import DecisionTreeClassifier\n",
    "from sklearn import tree\n"
   ]
  },
  {
   "cell_type": "code",
   "execution_count": 21,
   "metadata": {},
   "outputs": [],
   "source": [
    "\n",
    "\n",
    "class Classification():\n",
    "\n",
    "    def __init__(self, data):\n",
    "        self.data = data\n",
    "\n",
    "    def prepare_classification(self, target, list_fit):\n",
    "        self.x= self.data.drop([target], axis = 1)\n",
    "        self.y = self.data[target]\n",
    "        self.list_fit_x = list_fit.copy()\n",
    "        self.list_fit_x.remove(target)\n",
    "        input_enc = OrdinalEncoder()\n",
    "        input_enc.fit(self.x[self.list_fit_x])\n",
    "        self.x[self.list_fit_x] = input_enc.transform(self.x[self.list_fit_x])\n",
    "\n",
    "    def model_classification(self, max_depth):\n",
    "        self.X_train = self.x\n",
    "        self.Y_train  = self.y\n",
    "        #print(self.X_train.shape,  self.Y_train.shape)\n",
    "        self.clf = DecisionTreeClassifier(criterion = 'entropy', max_depth = max_depth)\n",
    "        self.clf = self.clf.fit(self.X_train, self.Y_train)\n",
    "    \n",
    "    def vizualize_tree(self, feature_name):\n",
    "        dot_data = tree.export_graphviz(self.clf,\n",
    "                                            out_file=None,\n",
    "                                            feature_names=self.X_train.columns.values,\n",
    "                                            class_names = self.clf.classes_,\n",
    "                                            filled=True)\n",
    "        graph = graphviz.Source(dot_data, format = \"svg\")\n",
    "        graph.render(\"C:/Users/Bayan Ali/Desktop/Russia/Ph.D/Languages/VScode/Classification/\"+feature_name+\"final_decision_tree_entropy_graphivz\")\n",
    "        graph = graphviz.Source(dot_data, format = \"png\")\n",
    "        graph.render(\"C:/Users/Bayan Ali/Desktop/Russia/Ph.D/Languages/VScode/Classification/\"+feature_name+\"final_decision_tree_entropy_graphivz\")\n",
    "\n",
    "    def visualize_importance(self,color, feature_name):\n",
    "        plt.figure(figsize=(18,6))\n",
    "        plt.title(\"Feature importance -->\"+feature_name)\n",
    "        plt.barh(self.X_train.columns.values, self.clf.feature_importances_, color = color, height = 0.2)\n",
    "        plt.savefig(\"C:/Users/Bayan Ali/Desktop/Russia/Ph.D/Languages/VScode/Classification/\"+feature_name+\"feature_importances.svg\")\n",
    "        plt.savefig(\"C:/Users/Bayan Ali/Desktop/Russia/Ph.D/Languages/VScode/Classification/\"+feature_name+\"feature_importances.png\")\n",
    "        plt.close()\n",
    "\n",
    "\n",
    "\n",
    "\n"
   ]
  },
  {
   "cell_type": "code",
   "execution_count": 18,
   "metadata": {},
   "outputs": [],
   "source": [
    "def read_data():\n",
    "    data = pd.read_csv(\"C:/Users/Bayan Ali/Desktop/Russia/Ph.D/Languages/Full Table for Classification.csv\")\n",
    "    df_data =  pd.DataFrame(data)\n",
    "    df_data = df_data.drop([\"N\",\"Languages\",\"Estimated Alpha (Hill)\",\"(Prussner - KS)/Prussner\",\"Abs\",\"<=0.1\"], axis = 1)\n",
    "    return df_data"
   ]
  },
  {
   "cell_type": "code",
   "execution_count": 19,
   "metadata": {},
   "outputs": [],
   "source": [
    "#parameters \n",
    "list_fit = [ \"Word-order\",\"Locus of marking\",\"Alignment\",\"Complexity\",\t\"Head directionality\"]\n",
    "list_depth = [9, 10, 12, 12, 10]"
   ]
  },
  {
   "cell_type": "code",
   "execution_count": 22,
   "metadata": {},
   "outputs": [],
   "source": [
    "df_data = read_data()\n",
    "for item, depth in zip(list_fit, list_depth):\n",
    "    obj_classification = Classification(df_data)\n",
    "    obj_classification.prepare_classification(item, list_fit)\n",
    "    clf = obj_classification.model_classification(depth)\n",
    "    obj_classification.vizualize_tree(item)\n",
    "    obj_classification.visualize_importance(\"navy\", item)"
   ]
  }
 ],
 "metadata": {
  "kernelspec": {
   "display_name": "new_env",
   "language": "python",
   "name": "python3"
  },
  "language_info": {
   "codemirror_mode": {
    "name": "ipython",
    "version": 3
   },
   "file_extension": ".py",
   "mimetype": "text/x-python",
   "name": "python",
   "nbconvert_exporter": "python",
   "pygments_lexer": "ipython3",
   "version": "3.9.7"
  }
 },
 "nbformat": 4,
 "nbformat_minor": 2
}
