{
 "cells": [
  {
   "cell_type": "code",
   "execution_count": 15,
   "metadata": {},
   "outputs": [],
   "source": [
    "import tensorflow as tf"
   ]
  },
  {
   "cell_type": "code",
   "execution_count": 16,
   "metadata": {},
   "outputs": [
    {
     "name": "stdout",
     "output_type": "stream",
     "text": [
      "Requirement already satisfied: graphviz in c:\\users\\bayan ali\\anaconda3\\envs\\new_env\\lib\\site-packages (0.20.1)Note: you may need to restart the kernel to use updated packages.\n"
     ]
    },
    {
     "name": "stderr",
     "output_type": "stream",
     "text": [
      "WARNING: Ignoring invalid distribution -rotobuf (c:\\users\\bayan ali\\anaconda3\\envs\\new_env\\lib\\site-packages)\n",
      "WARNING: Ignoring invalid distribution -rotobuf (c:\\users\\bayan ali\\anaconda3\\envs\\new_env\\lib\\site-packages)\n"
     ]
    },
    {
     "name": "stdout",
     "output_type": "stream",
     "text": [
      "\n"
     ]
    },
    {
     "name": "stderr",
     "output_type": "stream",
     "text": [
      "WARNING: Ignoring invalid distribution -rotobuf (c:\\users\\bayan ali\\anaconda3\\envs\\new_env\\lib\\site-packages)\n",
      "WARNING: Ignoring invalid distribution -rotobuf (c:\\users\\bayan ali\\anaconda3\\envs\\new_env\\lib\\site-packages)\n",
      "WARNING: Ignoring invalid distribution -rotobuf (c:\\users\\bayan ali\\anaconda3\\envs\\new_env\\lib\\site-packages)\n",
      "WARNING: Ignoring invalid distribution -rotobuf (c:\\users\\bayan ali\\anaconda3\\envs\\new_env\\lib\\site-packages)\n"
     ]
    }
   ],
   "source": [
    "pip install graphviz"
   ]
  },
  {
   "cell_type": "code",
   "execution_count": 17,
   "metadata": {},
   "outputs": [],
   "source": [
    "import graphviz\n",
    "import numpy as np\n",
    "import pandas as pd\n",
    "import matplotlib.pyplot as plt\n",
    "from sklearn.preprocessing import OrdinalEncoder\n",
    "from sklearn.tree import DecisionTreeClassifier\n",
    "from sklearn import tree\n",
    "from sklearn import preprocessing\n"
   ]
  },
  {
   "cell_type": "code",
   "execution_count": 59,
   "metadata": {},
   "outputs": [],
   "source": [
    "\n",
    "\n",
    "class Classification():\n",
    "\n",
    "    def __init__(self, data):\n",
    "        self.data = data\n",
    "\n",
    "    def prepare_classification(self, target, list_fit):\n",
    "        self.y = self.data[target]\n",
    "        \n",
    "        self.x= self.data.drop(list_fit, axis = 1)\n",
    "        print(type(self.x))\n",
    "        #self.list_fit_x.remove(target)\n",
    "        #input_enc = OrdinalEncoder()\n",
    "        #input_enc.fit(self.x[self.list_fit_x])\n",
    "        #self.x[self.list_fit_x] = input_enc.transform(self.x[self.list_fit_x])\n",
    "        #scaler = preprocessing.MinMaxScaler()\n",
    "        #self.x[[\"xmin based on data collapse\",\"xmin based on KS\"]] = scaler.fit_transform(self.x[[\"xmin based on data collapse\",\"xmin based on KS\"]])\n",
    "        #self.x.head()\n",
    "        #self.x = pd.DataFrame(self.x)\n",
    "\n",
    "    def model_classification(self, max_depth):\n",
    "        self.X_train = self.x\n",
    "        self.Y_train  = self.y\n",
    "        #print(self.X_train.shape,  self.Y_train.shape)\n",
    "        self.clf = DecisionTreeClassifier(criterion = 'gini')\n",
    "        self.clf = self.clf.fit(self.X_train, self.Y_train)\n",
    "    \n",
    "    def vizualize_tree(self, feature_name):\n",
    "        dot_data = tree.export_graphviz(self.clf,\n",
    "                                            out_file=None,\n",
    "                                            feature_names=self.X_train.columns.values,\n",
    "                                            class_names = self.clf.classes_,\n",
    "                                            filled=True)\n",
    "        graph = graphviz.Source(dot_data, format = \"svg\")\n",
    "        graph.render(\"C:/Users/Bayan Ali/Desktop/Russia/Ph.D/Languages/VScode/Classification/\"+feature_name+\"final_decision_tree_entropy_graphivz\")\n",
    "        graph = graphviz.Source(dot_data, format = \"png\")\n",
    "        graph.render(\"C:/Users/Bayan Ali/Desktop/Russia/Ph.D/Languages/VScode/Classification/\"+feature_name+\"final_decision_tree_entropy_graphivz\")\n",
    "        graph = graphviz.Source(dot_data, format = \"eps\")\n",
    "        graph.render(\"C:/Users/Bayan Ali/Desktop/Russia/Ph.D/Languages/VScode/Classification/\"+feature_name+\"final_decision_tree_entropy_graphivz\")\n",
    "\n",
    "    def visualize_importance(self,color, feature_name):\n",
    "        plt.figure(figsize=(18,6))\n",
    "        plt.title(\"Feature importance -->\"+feature_name)\n",
    "        plt.barh(self.X_train.columns.values, self.clf.feature_importances_, color = color, height = 0.2)\n",
    "        plt.savefig(\"C:/Users/Bayan Ali/Desktop/Russia/Ph.D/Languages/VScode/Classification/\"+feature_name+\"feature_importances.svg\")\n",
    "        plt.savefig(\"C:/Users/Bayan Ali/Desktop/Russia/Ph.D/Languages/VScode/Classification/\"+feature_name+\"feature_importances.png\")\n",
    "        plt.savefig(\"C:/Users/Bayan Ali/Desktop/Russia/Ph.D/Languages/VScode/Classification/\"+feature_name+\"feature_importances.eps\")\n",
    "        plt.close()\n",
    "\n",
    "\n",
    "\n",
    "\n"
   ]
  },
  {
   "cell_type": "code",
   "execution_count": 46,
   "metadata": {},
   "outputs": [],
   "source": [
    "#parameters \n",
    "list_fit = [ \"Word-order\",\"Locus of marking\",\"Alignment\",\"Complexity\",\t\"Head directionality\"]\n",
    "list_depth = [8, 5, 5, 5, 5]"
   ]
  },
  {
   "cell_type": "code",
   "execution_count": 58,
   "metadata": {},
   "outputs": [],
   "source": [
    "def read_data():\n",
    "    data = pd.read_csv(\"C:/Users/Bayan Ali/Desktop/Russia/Ph.D/Languages/Full Table for Classification.csv\")\n",
    "    df_data =  pd.DataFrame(data)\n",
    "    df_data = df_data.drop([\"N\",\"Languages\",\"Estimated Alpha (Hill)\",\"(Prussner - KS)/Prussner\",\"Abs\",\"<=0.1\",\"xmin based on data collapse\",\"xmin based on KS\"], axis = 1)\n",
    "    #df_data = df_data.drop(list_fit, axis = 1)\n",
    "    return df_data"
   ]
  },
  {
   "cell_type": "code",
   "execution_count": 60,
   "metadata": {},
   "outputs": [
    {
     "name": "stdout",
     "output_type": "stream",
     "text": [
      "<class 'pandas.core.frame.DataFrame'>\n"
     ]
    },
    {
     "name": "stdout",
     "output_type": "stream",
     "text": [
      "<class 'pandas.core.frame.DataFrame'>\n",
      "<class 'pandas.core.frame.DataFrame'>\n",
      "<class 'pandas.core.frame.DataFrame'>\n",
      "<class 'pandas.core.frame.DataFrame'>\n"
     ]
    }
   ],
   "source": [
    "df_data = read_data()\n",
    "df_data.head()\n",
    "for item, depth in zip(list_fit, list_depth):\n",
    "    \n",
    "    obj_classification = Classification(df_data)\n",
    "    obj_classification.prepare_classification(item, list_fit)\n",
    "    clf = obj_classification.model_classification(depth)\n",
    "    obj_classification.vizualize_tree(item)\n",
    "    obj_classification.visualize_importance(\"navy\", item)"
   ]
  },
  {
   "cell_type": "code",
   "execution_count": null,
   "metadata": {},
   "outputs": [],
   "source": []
  }
 ],
 "metadata": {
  "kernelspec": {
   "display_name": "new_env",
   "language": "python",
   "name": "python3"
  },
  "language_info": {
   "codemirror_mode": {
    "name": "ipython",
    "version": 3
   },
   "file_extension": ".py",
   "mimetype": "text/x-python",
   "name": "python",
   "nbconvert_exporter": "python",
   "pygments_lexer": "ipython3",
   "version": "3.9.7"
  }
 },
 "nbformat": 4,
 "nbformat_minor": 2
}
